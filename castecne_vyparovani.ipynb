{
 "cells": [
  {
   "cell_type": "markdown",
   "metadata": {},
   "source": [
    "# Částečné vypaření směsi"
   ]
  },
  {
   "cell_type": "markdown",
   "metadata": {},
   "source": [
    "### Zadání"
   ]
  },
  {
   "cell_type": "markdown",
   "metadata": {},
   "source": [
    "Směs benzenu a toulenu je přiváděna do výparníku ve kterém se ohřívá na 50 &deg;C. Tato směs je na vstupu tvořena z 50% benzenem a 50% toulenem. Na výstupu výpary obsahují 68.4% benzenu a kapalný zbytek obsahuje 40% benzenu. Zbytek do 100% je toulen. Jaké teplo je nutné průběžně dodávat do výparníku? Zanedbejte tlaky na vstupu do výparníku.\n",
    "\n",
    "<img src=\"castecne_vypareni.PNG\"  width=\"420\" height=\"620\">"
   ]
  },
  {
   "cell_type": "markdown",
   "metadata": {},
   "source": [
    "### Teorie"
   ]
  },
  {
   "cell_type": "markdown",
   "metadata": {},
   "source": [
    "Molární hmotnosti benzenu a toulenu zjistíme z řešení rovnic:\n",
    "\\begin{align*}\n",
    "1 mol = n_p + n_k\\\\\n",
    "0.5 mol = 0.684 n_pbenz + 0.4 n_kbenz\\\\\n",
    "0.5 mol = 0.316 n_ptoul + 0.6 n_ktoul\\\\\n",
    "\\end{align*}\n",
    "\n",
    "Kde: \n",
    "\n",
    "* $n_p$ – molární tok páry [$mol$]\n",
    "* $n_k$ – molární tok kapaliny [$mol$]\n",
    "\n",
    "\n",
    "Protože výparník funguje při stejném tlaku tak výpočet tepla je rozdíl entalpií výstupních a vstupních položek:\n",
    "\n",
    "\\begin{align*}\n",
    "Q= ∆H= ∑_{out} h_i n_i- ∑_{in} h_i n_i\n",
    "\\end{align*}\n",
    "\n",
    "Kde: \n",
    "\n",
    "* $Q$ – teplo [$J$]\n",
    "* $h_i$ – měrná entalpie složky [$J$⸱$mol^{-1}$]\n",
    "\n",
    "\n",
    "Jednotlivé entalpie jsou vypočteny z derivace Helmholtzovy volné energie získané z knihovny CoolProp.\n"
   ]
  },
  {
   "cell_type": "markdown",
   "metadata": {},
   "source": [
    "### Program"
   ]
  },
  {
   "cell_type": "markdown",
   "metadata": {},
   "source": [
    "Výpočet průtoků"
   ]
  },
  {
   "cell_type": "code",
   "execution_count": 1,
   "metadata": {
    "scrolled": true
   },
   "outputs": [
    {
     "name": "stdout",
     "output_type": "stream",
     "text": [
      "Průtok kapalné směsi je 0.352 mol\n",
      "Průtok plynné směsi je 0.648 mol\n",
      "Průtok kapalného benzenu je 0.259 mol\n",
      "Průtok kapalného toulenu je 0.389 mol\n",
      "Průtok plynného benzenu je 0.241 mol\n",
      "Průtok plynného toulenu je 0.111 mol\n"
     ]
    }
   ],
   "source": [
    "import numpy as np\n",
    "from CoolProp.CoolProp import PropsSI\n",
    "\n",
    "A = np.array([[1, 1],[0.684, 0.4]])\n",
    "b = np.array([1, 0.5])\n",
    "\n",
    "prutok = np.linalg.solve(A,b)\n",
    "\n",
    "n_liquid_B = prutok[1] * 0.4  #mol\n",
    "n_vapor_B = prutok[0] * 0.684  #mol\n",
    "n_liquid_T = prutok[1] * 0.6  #mol\n",
    "n_vapor_T = prutok[0] * 0.316  #mol\n",
    "\n",
    "print('Průtok kapalné směsi je {} mol'.format(round(prutok[0], 3)))\n",
    "print('Průtok plynné směsi je {} mol'.format(round(prutok[1], 3)))\n",
    "\n",
    "print('Průtok kapalného benzenu je {} mol'.format(round(n_liquid_B, 3)))\n",
    "print('Průtok kapalného toulenu je {} mol'.format(round(n_liquid_T, 3)))\n",
    "print('Průtok plynného benzenu je {} mol'.format(round(n_vapor_B, 3)))\n",
    "print('Průtok plynného toulenu je {} mol'.format(round(n_vapor_T, 3)))"
   ]
  },
  {
   "cell_type": "markdown",
   "metadata": {},
   "source": [
    "Výpočet dodávaného tepla"
   ]
  },
  {
   "cell_type": "code",
   "execution_count": 2,
   "metadata": {},
   "outputs": [
    {
     "name": "stdout",
     "output_type": "stream",
     "text": [
      "Toulen dh1 = 6332.303 J/mol\n",
      "Toulen dh2 = 43012.395 J/mol\n",
      "Benzen dh3 = 5469.891 J/mol\n",
      "Benzen dh4 = 37932.812 J/mol\n",
      "Teplo potřebné pro chod výparníku je 17800.937 J\n"
     ]
    }
   ],
   "source": [
    "toulen_h1 = PropsSI('Hmolar', 'T', 283.15, 'Q', 0, 'Toluene') #J/mol\n",
    "toulen_h2 = PropsSI('Hmolar', 'T', 323.15, 'Q', 0, 'Toluene') #J/mol\n",
    "toulen_h3 = PropsSI('Hmolar', 'T', 323.15, 'Q', 1, 'Toluene') #J/mol\n",
    "\n",
    "benzen_h1 = PropsSI('Hmolar', 'T', 283.15, 'Q', 0, 'Benzene') #J/mol\n",
    "benzen_h2 = PropsSI('Hmolar', 'T', 323.15, 'Q', 0, 'Benzene') #J/mol\n",
    "benzen_h3 = PropsSI('Hmolar', 'T', 323.15, 'Q', 1, 'Benzene') #J/mol\n",
    "\n",
    "T_dh12 = toulen_h2 - toulen_h1 #J/mol\n",
    "T_dh13 = toulen_h3 - toulen_h1 #J/mol\n",
    "B_dh12 =  benzen_h2 - benzen_h1 #J/mol\n",
    "B_dh13 = benzen_h3 - benzen_h1 #J/mol\n",
    "\n",
    "Q = T_dh12 * n_liquid_T + B_dh12 * n_liquid_B + T_dh13 * n_vapor_T + B_dh13 * n_vapor_B #J\n",
    "\n",
    "print('Toulen dh1 = {} J/mol'.format(round(T_dh12, 3)))\n",
    "print('Toulen dh2 = {} J/mol'.format(round(T_dh13, 3)))\n",
    "print('Benzen dh3 = {} J/mol'.format(round(B_dh12, 3)))\n",
    "print('Benzen dh4 = {} J/mol'.format(round(B_dh13, 3)))\n",
    "\n",
    "print('Teplo potřebné pro chod výparníku je {} J'.format(round(Q, 3)))"
   ]
  },
  {
   "cell_type": "code",
   "execution_count": null,
   "metadata": {},
   "outputs": [],
   "source": []
  }
 ],
 "metadata": {
  "kernelspec": {
   "display_name": "Python 3 (ipykernel)",
   "language": "python",
   "name": "python3"
  },
  "language_info": {
   "codemirror_mode": {
    "name": "ipython",
    "version": 3
   },
   "file_extension": ".py",
   "mimetype": "text/x-python",
   "name": "python",
   "nbconvert_exporter": "python",
   "pygments_lexer": "ipython3",
   "version": "3.11.7"
  }
 },
 "nbformat": 4,
 "nbformat_minor": 4
}
